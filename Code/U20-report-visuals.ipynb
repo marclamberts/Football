import pandas as pd
import matplotlib.pyplot as plt
from scipy import stats
from adjustText import adjust_text
import os
from fpdf import FPDF

# === Load Excel ===
file_path = "/Users/user/Downloads/U20 World Cup.xlsx"
df = pd.read_excel(file_path)

# === Define position groups ===
def position_group(pos):
    defenders = ["LB","LCB","CB","RCB","RB","LWB","RWB"]
    midfielders = ["RDMF","LDMF","RAMF","LAMF","AMF","LCMF","RCMF"]
    attackers = ["CF","LW","RW"]
    if pos in defenders: return "Defenders"
    elif pos in midfielders: return "Midfielders"
    elif pos in attackers: return "Attackers"
    else: return "Other"
df["Group"] = df["Position"].apply(position_group)

# === Metrics ===
attacking_metrics = ["Goals per 90","Assists per 90","xA per 90","xG per 90",
                     "Passes to final third per 90","Passes to penalty area per 90",
                     "Progressive passes per 90","Touches in box per 90"]
defensive_metrics = ["PAdj Sliding tackles","PAdj Interceptions",
                     "Aerial duels won, %","Defensive duels won, %","Shots blocked per 90"]

# === Normalize metrics ===
for col in attacking_metrics+defensive_metrics:
    df[col+"_z"] = stats.zscore(df[col].fillna(0))
df["Attacking_score"] = df[[c+"_z" for c in attacking_metrics]].mean(axis=1)
df["Defensive_score"] = df[[c+"_z" for c in defensive_metrics]].mean(axis=1)

# === Weightings per group ===
weights = {"Defenders":(0.7,0.3),"Midfielders":(0.5,0.5),"Attackers":(0.3,0.7)}

# === Output folder ===
out_dir = "/Users/user/Player_scores"
os.makedirs(out_dir, exist_ok=True)
logo_path = "/Users/user/Downloads/logo.png"

# === Scatterplot function ===
def scatterplot(group_df, group, out_dir, filename, prefix=""):
    w_def,w_att = weights[group]
    weighted = w_def*group_df["Defensive_score"]+w_att*group_df["Attacking_score"]
    z_weighted = stats.zscore(weighted)
    outliers = group_df[z_weighted>1]
    
    plt.figure(figsize=(16,9))  # landscape
    plt.scatter(group_df["Defensive_score"],group_df["Attacking_score"],alpha=0.6,color="blue")
    plt.scatter(outliers["Defensive_score"],outliers["Attacking_score"],color="red",s=100)
    texts=[plt.text(r["Defensive_score"],r["Attacking_score"],r["Player"],fontsize=9,color="black")
           for i,r in outliers.iterrows()]
    adjust_text(texts,arrowprops=dict(arrowstyle="-",color="gray",lw=0.5))
    plt.axhline(0,color="gray",linestyle="--",lw=0.8)
    plt.axvline(0,color="gray",linestyle="--",lw=0.8)
    plt.xlabel("Defensive Score (Z)")
    plt.ylabel("Attacking Score (Z)")
    plt.title(f"{prefix}{group} - Attacking vs Defensive")
    plt.grid(True,linestyle="--",alpha=0.5)
    plt.tight_layout()
    path=os.path.join(out_dir,filename)
    plt.savefig(path,dpi=300)
    plt.close()
    
    # Save only outliers
    outliers.to_excel(os.path.join(out_dir,f"{prefix}{group}_outliers.xlsx"),index=False)
    return path

# === Barplot function with country in parentheses ===
def barplot_with_country(group_df,score_col,group,out_dir,filename,top_n=15,color="skyblue",prefix=""):
    group_df = group_df.copy()
    group_df["Player_label"] = group_df["Player"] + " (" + group_df["Passport country"] + ")"
    
    # Top N by score
    top_df = group_df.sort_values(score_col,ascending=False).head(top_n)
    
    plt.figure(figsize=(16,9))  # landscape
    plt.barh(top_df["Player_label"],top_df[score_col],color=color)
    plt.gca().invert_yaxis()
    plt.xlabel(f"{score_col} (Z)")
    plt.title(f"{prefix}Top {group} by {score_col}")
    plt.tight_layout()
    
    path=os.path.join(out_dir,filename)
    plt.savefig(path,dpi=300)
    plt.close()
    
    # Save outliers for this chart (top N as outliers for simplicity)
    top_df.to_excel(os.path.join(out_dir,f"{prefix}{group}_outliers.xlsx"),index=False)
    return path

# === Generate all charts for a dataset ===
def generate_charts(data,prefix=""):
    charts={}
    charts["scatter_def"]=scatterplot(data[data["Group"]=="Defenders"],"Defenders",out_dir,"scatter_def.png",prefix)
    charts["bar_def"]=barplot_with_country(data[data["Group"]=="Defenders"],"Defensive_score","Defenders",out_dir,"bar_def.png",color="lightgreen",prefix=prefix)
    
    charts["scatter_mid"]=scatterplot(data[data["Group"]=="Midfielders"],"Midfielders",out_dir,"scatter_mid.png",prefix)
    charts["bar_mid_def"]=barplot_with_country(data[data["Group"]=="Midfielders"],"Defensive_score","Midfielders",out_dir,"bar_mid_def.png",color="lightblue",prefix=prefix)
    charts["bar_mid_att"]=barplot_with_country(data[data["Group"]=="Midfielders"],"Attacking_score","Midfielders",out_dir,"bar_mid_att.png",color="orange",prefix=prefix)
    
    charts["scatter_att"]=scatterplot(data[data["Group"]=="Attackers"],"Attackers",out_dir,"scatter_att.png",prefix)
    charts["bar_att"]=barplot_with_country(data[data["Group"]=="Attackers"],"Attacking_score","Attackers",out_dir,"bar_att.png",color="red",prefix=prefix)
    return charts

# === Generate charts ===
charts_full = generate_charts(df,prefix="All_")
big5 = ["Italy","Spain","Brazil","Argentina","France"]
df_excl = df[~df["Passport country"].isin(big5)].copy()
charts_excl = generate_charts(df_excl,prefix="NoBig5_")

# === Generate landscape PDF ===
pdf=FPDF(orientation='L',unit='mm',format='A4')  # landscape
pdf.add_page()
if os.path.exists(logo_path):
    pdf.image(logo_path,x=60,y=50,w=100)
pdf.set_font("Arial","B",16)
pdf.ln(150)
pdf.cell(0,10,"U20 World Cup Player Analysis",ln=True,align="C")

slides_order=[
    charts_full["scatter_def"], charts_full["bar_def"],
    charts_full["scatter_mid"], charts_full["bar_mid_def"], charts_full["bar_mid_att"],
    charts_full["scatter_att"], charts_full["bar_att"],
    
    charts_excl["scatter_def"], charts_excl["bar_def"],
    charts_excl["scatter_mid"], charts_excl["bar_mid_def"], charts_excl["bar_mid_att"],
    charts_excl["scatter_att"], charts_excl["bar_att"]
]

titles_order=[
    "Scatter Defenders","Bar Defenders: Defensive",
    "Scatter Midfielders","Bar Midfielders: Defensive","Bar Midfielders: Attacking",
    "Scatter Attackers","Bar Attackers: Attacking",
    
    "Scatter Defenders (No Big5)","Bar Defenders: Defensive (No Big5)",
    "Scatter Midfielders (No Big5)","Bar Midfielders: Defensive (No Big5)","Bar Midfielders: Attacking (No Big5)",
    "Scatter Attackers (No Big5)","Bar Attackers: Attacking (No Big5)"
]

for img,title in zip(slides_order,titles_order):
    pdf.add_page()
    pdf.image(img,x=15,y=25,w=270,h=150)  # fit slide in landscape
    pdf.set_font("Arial","B",14)
    pdf.ln(5)
    pdf.cell(0,10,title,ln=True,align="C")

pdf_output=os.path.join(out_dir,"Player_Presentation_Landscape.pdf")
pdf.output(pdf_output)

print(f"PDF saved: {pdf_output}")
print(f"Outlier Excel files saved in: {out_dir}")
