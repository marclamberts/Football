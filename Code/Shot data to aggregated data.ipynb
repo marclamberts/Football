{
 "cells": [
  {
   "cell_type": "code",
   "execution_count": 8,
   "id": "d48c86c8",
   "metadata": {},
   "outputs": [
    {
     "name": "stdout",
     "output_type": "stream",
     "text": [
      "✅ Done!\n",
      "Player summary saved to: /Users/user/Documents/GitHub/Football/Data Women/NSL/NSL Player xG.xlsx\n",
      "Team summary saved to: /Users/user/Documents/GitHub/Football/Data Women/NSL/NSL Team xG.xlsx\n",
      "Merged data saved to: /Users/user/Documents/GitHub/Football/Data Women/NSL/NSL Shot data.xlsx\n"
     ]
    }
   ],
   "source": [
    "import pandas as pd\n",
    "import os\n",
    "from pathlib import Path\n",
    "\n",
    "# ====== CONFIG ======\n",
    "input_folder = \"/Users/user/XG/NSL/xgCSV\"  # Change this to your folder path\n",
    "output_folder = \"/Users/user/Documents/GitHub/Football/Data Women/NSL/\"  # Updated save location\n",
    "\n",
    "# Ensure output folder exists\n",
    "os.makedirs(output_folder, exist_ok=True)\n",
    "\n",
    "# ====== STEP 1: LOAD ALL CSV FILES ======\n",
    "all_files = list(Path(input_folder).glob(\"*.csv\"))\n",
    "\n",
    "df_list = []\n",
    "for file in all_files:\n",
    "    df = pd.read_csv(file)\n",
    "    df_list.append(df)\n",
    "\n",
    "# Merge all into one DataFrame\n",
    "merged_df = pd.concat(df_list, ignore_index=True)\n",
    "\n",
    "# ====== STEP 2: AGGREGATE BY PlayerId ======\n",
    "player_summary = (\n",
    "    merged_df.groupby(\"PlayerId\")\n",
    "    .agg(\n",
    "        shots=('PlayerId', 'size'),   # Count number of shots (rows)\n",
    "        isGoal=('isGoal', 'sum'),     # Sum goals\n",
    "        xG=('xG', 'sum')             # Sum xG\n",
    "    )\n",
    "    .reset_index()\n",
    ")\n",
    "\n",
    "# ====== STEP 3: AGGREGATE BY TeamId ======\n",
    "team_summary = (\n",
    "    merged_df.groupby(\"TeamId\")\n",
    "    .agg(\n",
    "        shots=('TeamId', 'size'),\n",
    "        isGoal=('isGoal', 'sum'),\n",
    "        xG=('xG', 'sum')\n",
    "    )\n",
    "    .reset_index()\n",
    ")\n",
    "\n",
    "# ====== STEP 4: SAVE RESULTS TO EXCEL ======\n",
    "player_file = os.path.join(output_folder, \"NSL Player xG.xlsx\")\n",
    "team_file = os.path.join(output_folder, \"NSL Team xG.xlsx\")\n",
    "merged_file = os.path.join(output_folder, \"NSL Shot data.xlsx\")\n",
    "\n",
    "player_summary.to_excel(player_file, index=False)\n",
    "team_summary.to_excel(team_file, index=False)\n",
    "merged_df.to_excel(merged_file, index=False)\n",
    "\n",
    "print(\"✅ Done!\")\n",
    "print(f\"Player summary saved to: {player_file}\")\n",
    "print(f\"Team summary saved to: {team_file}\")\n",
    "print(f\"Merged data saved to: {merged_file}\")\n"
   ]
  },
  {
   "cell_type": "code",
   "execution_count": 2,
   "id": "0bc32456",
   "metadata": {},
   "outputs": [
    {
     "name": "stdout",
     "output_type": "stream",
     "text": [
      "Collecting ace_tools\n",
      "  Downloading ace_tools-0.0-py3-none-any.whl.metadata (300 bytes)\n",
      "Downloading ace_tools-0.0-py3-none-any.whl (1.1 kB)\n",
      "Installing collected packages: ace_tools\n",
      "Successfully installed ace_tools-0.0\n",
      "Note: you may need to restart the kernel to use updated packages.\n"
     ]
    }
   ],
   "source": [
    "pip install ace_tools"
   ]
  },
  {
   "cell_type": "code",
   "execution_count": null,
   "id": "a17b2d6c",
   "metadata": {},
   "outputs": [],
   "source": []
  }
 ],
 "metadata": {
  "kernelspec": {
   "display_name": "base",
   "language": "python",
   "name": "python3"
  },
  "language_info": {
   "codemirror_mode": {
    "name": "ipython",
    "version": 3
   },
   "file_extension": ".py",
   "mimetype": "text/x-python",
   "name": "python",
   "nbconvert_exporter": "python",
   "pygments_lexer": "ipython3",
   "version": "3.12.2"
  }
 },
 "nbformat": 4,
 "nbformat_minor": 5
}
