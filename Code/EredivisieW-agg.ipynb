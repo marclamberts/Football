import pandas as pd
import numpy as np
import os
import re
import json
from glob import glob

# ===========================
# 0. Paths
# ===========================
json_folder = "/Users/user/XG/Eredivisie W/"  # match JSONs
event_map_csv = "/Users/user/opta-events.csv"
team_mapping_file = "/Users/user/XG/Eredivisie W Matches.csv"
xg_folder = "/Users/user/XG/Eredivisie W/xgCSV"
xT_path = "/Users/user/xT_grid.csv"  # xT grid
output_excel_player = "/Users/user/XG/Eredivisie W_Player_Stats.xlsx"
output_excel_team = "/Users/user/XG/Eredivisie W_Team_Stats.xlsx"
output_passes_csv = "/Users/user/XG/Eredivisie W_xT_passes.csv"

# ===========================
# 0.1 Helpers
# ===========================
def normalize_name(s: str) -> str:
    if s is None:
        return ""
    s = s.lower().strip()
    s = re.sub(r"\s+", " ", s)
    s = re.sub(r"[^a-z0-9 ]", "", s)
    s = s.replace(" ", "")
    return s

# ===========================
# 1. Load JSONs
# ===========================
all_rows = []
json_files = sorted(glob(os.path.join(json_folder, "*.json")))

for json_path in json_files:
    with open(json_path, "r") as f:
        data = json.load(f)
    events = data["event"]
    for e in events:
        row = {
            "id": e.get("id"),
            "eventId": e.get("eventId"),
            "typeId": e.get("typeId"),
            "periodId": e.get("periodId"),
            "timeMin": e.get("timeMin"),
            "timeSec": e.get("timeSec"),
            "contestantId": e.get("contestantId"),
            "playerId": e.get("playerId"),
            "playerName": e.get("playerName"),
            "outcome": e.get("outcome"),
            "x": e.get("x"),
            "y": e.get("y"),
            "timeStamp": e.get("timeStamp"),
            "lastModified": e.get("lastModified"),
            "match_file": os.path.basename(json_path),
        }
        for q in e.get("qualifier", []):
            qid = q["qualifierId"]
            val = q.get("value", 1)
            try:
                val = float(val)
                if val.is_integer():
                    val = int(val)
            except Exception:
                val = 1
            row[f"qualifier_{qid}"] = val
        all_rows.append(row)

df = pd.DataFrame(all_rows)
df.fillna(0, inplace=True)

# ===========================
# 2. Event Mapping
# ===========================
event_map = pd.read_csv(event_map_csv, encoding="ISO-8859-1")
event_map.columns = ["typeId", "Event Type", "Description"]
df = df.merge(event_map[["typeId","Event Type"]], on="typeId", how="left")

# ===========================
# 3. Team Mapping
# ===========================
team_mapping_df = pd.read_csv(team_mapping_file)
home_teams = team_mapping_df[["matchInfo/contestant/0/id", "matchInfo/contestant/0/name"]].copy()
home_teams.columns = ["contestantId", "TeamName"]
away_teams = team_mapping_df[["matchInfo/contestant/1/id", "matchInfo/contestant/1/name"]].copy()
away_teams.columns = ["contestantId", "TeamName"]
team_map = pd.concat([home_teams, away_teams]).drop_duplicates()

# Standardize team names
team_name_corrections = {
    "AFC Ajax": "Ajax",
    "SBV Excelsior": "Excelsior",
    "Alkmaar Zaanstreek": "AZ",
    "SC Heerenveen": "Heerenveen",
    "PSV Eindhoven": "PSV",
    "FC Twente": "Twente",
    "FC Utrecht": "Utrecht",
    "Feyenoord Rotterdam": "Feyenoord"
}
team_map["Team"] = team_map["TeamName"].replace(team_name_corrections)
id_to_team = dict(zip(team_map['contestantId'], team_map['Team']))
df["Team"] = df["contestantId"].map(id_to_team)

# ===========================
# 4. Player Stats
# ===========================
player_stats = pd.DataFrame({"Player": df["playerName"].unique()})
player_team = df.groupby("playerName")["Team"].first()
player_stats = player_stats.merge(player_team.rename("Team"), left_on="Player", right_index=True, how="left")

def add_stat(player_stats, df, type_id, name_total, name_success=None):
    subset = df[df["typeId"]==type_id]
    total = subset.groupby("playerName")["id"].count()
    player_stats = player_stats.merge(total.rename(name_total), left_on="Player", right_index=True, how="left")
    if name_success:
        success = subset[subset["outcome"]==1].groupby("playerName")["id"].count()
        player_stats = player_stats.merge(success.rename(name_success), left_on="Player", right_index=True, how="left")
        player_stats[name_success.replace("Successful ","")+" %"] = (player_stats[name_success]/player_stats[name_total]*100).round(2)
    return player_stats

# Core stats
player_stats = add_stat(player_stats, df, 1, "Passes", "Successful Passes")
player_stats = add_stat(player_stats, df, 3, "Dribbles", "Successful Dribbles")
player_stats = add_stat(player_stats, df, 7, "Tackles", "Successful Tackles")
player_stats = add_stat(player_stats, df, 8, "Interceptions")
player_stats = add_stat(player_stats, df, 12, "Clearances")
player_stats = add_stat(player_stats, df, 44, "Aerial Duels", "Aerial Duels Won")
player_stats = add_stat(player_stats, df, 51, "Errors")

# Shots
shot_types = [13,14,15,16]
shots = df[df["typeId"].isin(shot_types)]
player_stats = player_stats.merge(shots.groupby("playerName")["id"].count().rename("Shots"), left_on="Player", right_index=True, how="left")
shots_on_target = df[df["typeId"].isin([15,16])]
player_stats = player_stats.merge(shots_on_target.groupby("playerName")["id"].count().rename("Shots on Target"), left_on="Player", right_index=True, how="left")
player_stats["Shots on Target %"] = (player_stats["Shots on Target"]/player_stats["Shots"]*100).round(2)
goals = df[df["typeId"]==16]
player_stats = player_stats.merge(goals.groupby("playerName")["id"].count().rename("Goals"), left_on="Player", right_index=True, how="left")

# ===========================
# 5. Pass Metrics
# ===========================
pass_df = df[df["typeId"]==1].copy()
for q in ["qualifier_1","qualifier_2","qualifier_3","qualifier_210","qualifier_140","qualifier_141"]:
    if q not in pass_df.columns:
        pass_df[q] = 0

# Key Passes
player_stats = player_stats.merge(pass_df[pass_df["qualifier_210"]!=0].groupby("playerName")["id"].count().rename("Key Passes"),
                                  left_on="Player", right_index=True, how="left")

# Passes to Final Third
final_third_passes = pass_df[pass_df["qualifier_140"] > 66]
player_stats = player_stats.merge(final_third_passes.groupby("playerName")["id"].count().rename("Passes to Final Third"),
                                  left_on="Player", right_index=True, how="left")

# Passes to Penalty Area
pen_area_passes = pass_df[(pass_df["qualifier_140"] > 83) & (pass_df["qualifier_141"] > 21) & (pass_df["qualifier_141"] < 79)]
player_stats = player_stats.merge(pen_area_passes.groupby("playerName")["id"].count().rename("Passes to Penalty Area"),
                                  left_on="Player", right_index=True, how="left")

# Progressive Passes (>15m)
pass_df["pass_distance"] = np.sqrt((pass_df["qualifier_140"] - pass_df["x"])**2 + (pass_df["qualifier_141"] - pass_df["y"])**2)
pass_df["Progressive Pass"] = (pass_df["pass_distance"] > 15).astype(int)
player_stats = player_stats.merge(pass_df.groupby("playerName")["Progressive Pass"].sum().rename("Progressive Passes"),
                                  left_on="Player", right_index=True, how="left")

# Half-space passes
pass_df["Left Half-Space Pass"] = ((pass_df["qualifier_140"] > 50) & (pass_df["qualifier_141"] >= 25) & (pass_df["qualifier_141"] < 50)).astype(int)
pass_df["Right Half-Space Pass"] = ((pass_df["qualifier_140"] > 50) & (pass_df["qualifier_141"] >= 50) & (pass_df["qualifier_141"] < 75)).astype(int)
player_stats = player_stats.merge(pass_df.groupby("playerName")["Left Half-Space Pass"].sum().rename("Left Half-Space Passes"),
                                  left_on="Player", right_index=True, how="left")
player_stats = player_stats.merge(pass_df.groupby("playerName")["Right Half-Space Pass"].sum().rename("Right Half-Space Passes"),
                                  left_on="Player", right_index=True, how="left")

# Percentages
player_stats["Key Passes %"] = (player_stats["Key Passes"]/player_stats["Passes"]*100).round(2)
player_stats["Passes to Final Third %"] = (player_stats["Passes to Final Third"]/player_stats["Passes"]*100).round(2)
player_stats["Passes to Penalty Area %"] = (player_stats["Passes to Penalty Area"]/player_stats["Passes"]*100).round(2)
player_stats["Progressive Passes %"] = (player_stats["Progressive Passes"]/player_stats["Passes"]*100).round(2)
player_stats["Left Half-Space %"] = (player_stats["Left Half-Space Passes"]/player_stats["Passes"]*100).round(2)
player_stats["Right Half-Space %"] = (player_stats["Right Half-Space Passes"]/player_stats["Passes"]*100).round(2)

# ===========================
# 6. Assists
# ===========================
df_sorted = df.sort_values(["match_file","periodId","timeMin","timeSec"]).copy()
df_sorted["next_type"] = df_sorted.groupby("match_file")["typeId"].shift(-1)
df_sorted["next_team"] = df_sorted.groupby("match_file")["Team"].shift(-1)
df_sorted["Assist"] = ((df_sorted["typeId"]==1)&(df_sorted["qualifier_210"]!=0)&(df_sorted["next_type"]==16)&(df_sorted["Team"]==df_sorted["next_team"])).astype(int)
player_stats = player_stats.merge(df_sorted.groupby("playerName")["Assist"].sum().rename("Assists"),
                                  left_on="Player", right_index=True, how="left")

# ===========================
# 7. xG/xA
# ===========================
xg_dfs = []
for file in os.listdir(xg_folder):
    if file.endswith(".csv"):
        df_xg = pd.read_csv(os.path.join(xg_folder, file))
        xg_dfs.append(df_xg)
all_xg = pd.concat(xg_dfs, ignore_index=True)
all_xg = all_xg.rename(columns={"PlayerId":"Player","TeamId":"Team"})
all_xg["Team"] = all_xg["Team"].replace(team_name_corrections)
all_xg["PlayCategory"] = all_xg["Type_of_play"].apply(lambda x: "OpenPlay" if x in ["RegularPlay","FastBreak"] else "SetPiece")
xg_summary = all_xg.groupby(["Player","Team"]).agg(
    xG=("xG","sum"),
    xG_Open=("xG", lambda x: all_xg.loc[x.index,"xG"][all_xg.loc[x.index,"PlayCategory"]=="OpenPlay"].sum()),
    xG_Set=("xG", lambda x: all_xg.loc[x.index,"xG"][all_xg.loc[x.index,"PlayCategory"]=="SetPiece"].sum())
).reset_index()
xg_summary.rename(columns={"xG_Open":"xG - Open Play","xG_Set":"xG - Set Piece"}, inplace=True)

assist_events = all_xg[all_xg["relatedPlayerId"].notna()].copy()
assist_events["AssistPlayer"] = assist_events["relatedPlayerId"]
xA_summary = assist_events.groupby(["AssistPlayer","Team"]).agg(xA=("xG","sum")).reset_index()
xA_summary.rename(columns={"AssistPlayer":"Player"}, inplace=True)

player_stats = player_stats.merge(xg_summary, on=["Player","Team"], how="left")
player_stats = player_stats.merge(xA_summary, on=["Player","Team"], how="left")
player_stats[["xG","xG - Open Play","xG - Set Piece","xA"]] = player_stats[["xG","xG - Open Play","xG - Set Piece","xA"]].fillna(0)

# ===========================
# 8. xT
# ===========================
xT_grid = pd.read_csv(xT_path, header=None).to_numpy()
xT_rows, xT_cols = xT_grid.shape

def calc_xT_for_passes(df_passes):
    x_edges = np.linspace(0,100,xT_cols+1)
    y_edges = np.linspace(0,68,xT_rows+1)
    df_passes = df_passes.copy()
    df_passes["x1_bin"] = pd.cut(df_passes["x"], bins=x_edges, labels=False, include_lowest=True)
    df_passes["y1_bin"] = pd.cut(df_passes["y"], bins=y_edges, labels=False, include_lowest=True)
    df_passes["x2_bin"] = pd.cut(df_passes["endX"], bins=x_edges, labels=False, include_lowest=True)
    df_passes["y2_bin"] = pd.cut(df_passes["endY"], bins=y_edges, labels=False, include_lowest=True)

    # Drop invalid bins
    df_passes = df_passes.dropna(subset=["x1_bin","y1_bin","x2_bin","y2_bin"]).copy()
    df_passes["x1_bin"] = df_passes["x1_bin"].astype(int)
    df_passes["y1_bin"] = df_passes["y1_bin"].astype(int)
    df_passes["x2_bin"] = df_passes["x2_bin"].astype(int)
    df_passes["y2_bin"] = df_passes["y2_bin"].astype(int)

    df_passes["xT_start"] = df_passes.apply(lambda r: xT_grid[r["y1_bin"], r["x1_bin"]], axis=1)
    df_passes["xT_end"] = df_passes.apply(lambda r: xT_grid[r["y2_bin"], r["x2_bin"]], axis=1)
    df_passes["xT_added"] = df_passes["xT_end"] - df_passes["xT_start"]
    return df_passes

pass_events = df[df["typeId"]==1].copy()
pass_events = pass_events[pass_events["qualifier_140"]!=0]
pass_events = pass_events.rename(columns={"qualifier_140":"endX","qualifier_141":"endY"})
pass_events = calc_xT_for_passes(pass_events)
pass_events["Team"] = pass_events["contestantId"].map(id_to_team)

player_xT = pass_events.groupby(["playerName","Team"]).agg(xT=("xT_added","sum")).reset_index()
player_xT.rename(columns={"playerName":"Player"}, inplace=True)
player_stats = player_stats.merge(player_xT, on=["Player","Team"], how="left")

# Fill missing xT with 0
player_stats["xT"] = player_stats["xT"].fillna(0)

# ===========================
# 9. Team Stats
# ===========================
teams = df["Team"].unique()
team_stats = pd.DataFrame({"Team":teams}).set_index("Team")

# Core stats & passes metrics
cols_to_sum = [
    "Passes","Successful Passes","Dribbles","Successful Dribbles","Tackles","Successful Tackles",
    "Interceptions","Clearances","Aerial Duels","Aerial Duels Won","Errors",
    "Shots","Shots on Target","Goals","Key Passes","Passes to Final Third","Passes to Penalty Area",
    "Progressive Passes","Left Half-Space Passes","Right Half-Space Passes","Assists","xG","xG - Open Play",
    "xG - Set Piece","xA","xT"
]
for col in cols_to_sum:
    team_stats[col] = player_stats.groupby("Team")[col].sum()

# Percentages
team_stats["Key Passes %"] = (team_stats["Key Passes"]/team_stats["Passes"]*100).round(2)
team_stats["Passes to Final Third %"] = (team_stats["Passes to Final Third"]/team_stats["Passes"]*100).round(2)
team_stats["Passes to Penalty Area %"] = (team_stats["Passes to Penalty Area"]/team_stats["Passes"]*100).round(2)
team_stats["Progressive Passes %"] = (team_stats["Progressive Passes"]/team_stats["Passes"]*100).round(2)
team_stats["Left Half-Space %"] = (team_stats["Left Half-Space Passes"]/team_stats["Passes"]*100).round(2)
team_stats["Right Half-Space %"] = (team_stats["Right Half-Space Passes"]/team_stats["Passes"]*100).round(2)

team_stats = team_stats.reset_index()

# ===========================
# 10. Save Excel
# ===========================
player_stats.to_excel(output_excel_player, index=False)
team_stats.to_excel(output_excel_team, index=False)
print(f"Player stats saved to {output_excel_player}")
print(f"Team stats saved to {output_excel_team}")

# Optional: save xT passes for inspection
pass_events.to_csv(output_passes_csv, index=False)
print(f"xT passes saved to {output_passes_csv}")
