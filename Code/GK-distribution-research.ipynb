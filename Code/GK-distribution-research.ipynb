import json
from datetime import datetime
import matplotlib.pyplot as plt
from mplsoccer import VerticalPitch

# Load the JSON data
def load_match_data(file_path):
    try:
        with open(file_path, 'r') as file:
            return json.load(file)
    except FileNotFoundError:
        print(f"Error: File {file_path} not found.")
        return None
    except json.JSONDecodeError:
        print("Error: Invalid JSON format.")
        return None

# Identify goalkeepers from lineup events
def identify_goalkeepers(data):
    goalkeepers = {}
    for event in data['event']:
        if event.get('typeId') == 34 and event.get('periodId') == 16:  # Lineup event
            team_id = event.get('contestantId')
            team_name = "Home" if team_id == "brqgnvlmr47kw37dweey8q6xz" else "Away"
            jersey_numbers = None
            player_ids = None

            # Collect qualifiers for jersey numbers and player IDs
            for qualifier in event.get('qualifier', []):
                if qualifier.get('qualifierId') == 59:  # Jersey numbers
                    jersey_numbers = qualifier.get('value', '').split(', ')
                elif qualifier.get('qualifierId') == 30:  # Player IDs
                    player_ids = qualifier.get('value', '').split(', ')

            # Create goalkeeper entry if both qualifiers are present
            if jersey_numbers and player_ids and len(jersey_numbers) > 0 and len(player_ids) > 0:
                goalkeepers[team_id] = {
                    'playerId': player_ids[0],  # Assume first player (jersey 1) is goalkeeper
                    'team': team_name,
                    'jersey': jersey_numbers[0],
                    'name': 'Unknown'  # Default name, to be updated
                }
    return goalkeepers

# Map playerId to playerName from events
def map_player_names(data, goalkeepers):
    player_name_map = {}
    for event in data['event']:
        player_id = event.get('playerId')
        player_name = event.get('playerName')
        if player_id and player_name and event.get('typeId') in [1, 6, 43]:  # Passes, goal kicks, saves
            player_name_map[player_id] = player_name
    
    # Update goalkeeper names
    for team_id, gk in goalkeepers.items():
        gk['name'] = player_name_map.get(gk['playerId'], 'Unknown')
    return goalkeepers

# Extract passes (typeId=1) for goalkeepers
def extract_gk_passes(data, goalkeepers):
    passes = []
    for event in data['event']:
        if event.get('typeId') == 1 and event.get('playerId') in [gk['playerId'] for gk in goalkeepers.values()]:
            pass_info = {
                'eventId': event.get('eventId'),
                'period': event.get('periodId'),
                'timeMin': event.get('timeMin'),
                'timeSec': event.get('timeSec'),
                'outcome': event.get('outcome'),
                'startX': event.get('x'),
                'startY': event.get('y'),
                'endX': None,
                'endY': None,
                'team': goalkeepers[event.get('contestantId')]['team'],
                'playerName': goalkeepers[event.get('contestantId')].get('name', 'Unknown')
            }
            # Extract endX (qualifier 140) and endY (qualifier 141)
            for qualifier in event.get('qualifier', []):
                if qualifier.get('qualifierId') == 140:
                    pass_info['endX'] = float(qualifier.get('value', 0))
                if qualifier.get('qualifierId') == 141:
                    pass_info['endY'] = float(qualifier.get('value', 0))
            # Format time as MM:SS
            pass_info['time'] = f"{pass_info['timeMin']:02d}:{pass_info['timeSec']:02d}"
            passes.append(pass_info)
    return passes

# Visualize passes on two side-by-side pitches
def plot_gk_passes(passes):
    # Create two side-by-side vertical pitches
    fig, axes = plt.subplots(1, 2, figsize=(12, 8))
    pitch = VerticalPitch(pitch_type='opta', pitch_length=100, pitch_width=68, 
                         line_color='black', goal_type='box', half=False)

    # Plot for Home goalkeeper (SC Heerenveen)
    pitch.draw(ax=axes[0])
    axes[0].set_title('Home Goalkeeper (J. Resink)')
    home_passes = [p for p in passes if p['team'] == 'Home']
    for pass_info in home_passes:
        color = 'green' if pass_info['outcome'] == 1 else 'red'
        # Plot pass line (arrow)
        pitch.arrows(pass_info['startX'], pass_info['startY'], 
                    pass_info['endX'], pass_info['endY'], 
                    color=color, ax=axes[0], zorder=2, width=2, headwidth=6)
        # Plot start point
        pitch.scatter(pass_info['startX'], pass_info['startY'], 
                     color=color, s=100, ax=axes[0], zorder=3)

    # Plot for Away goalkeeper (FC Twente)
    pitch.draw(ax=axes[1])
    axes[1].set_title('Away Goalkeeper (D. Lemey)')
    away_passes = [p for p in passes if p['team'] == 'Away']
    for pass_info in away_passes:
        color = 'green' if pass_info['outcome'] == 1 else 'red'
        # Plot pass line (arrow)
        pitch.arrows(pass_info['startX'], pass_info['startY'], 
                    pass_info['endX'], pass_info['endY'], 
                    color=color, ax=axes[1], zorder=2, width=2, headwidth=6)
        # Plot start point
        pitch.scatter(pass_info['startX'], pass_info['startY'], 
                     color=color, s=100, ax=axes[1], zorder=3)

    plt.tight_layout()
    plt.show()

# Main execution
def main():
    file_path = "/Users/user/XG/Eredivisie W/2025-09-06_SC Heerenveen - FC Twente.json"
    data = load_match_data(file_path)
    if not data:
        return
    
    # Identify goalkeepers
    goalkeepers = identify_goalkeepers(data)
    if not goalkeepers:
        print("No goalkeepers identified.")
        return
    
    # Map player names to goalkeepers
    goalkeepers = map_player_names(data, goalkeepers)
    
    # Print goalkeeper details
    print("Identified Goalkeepers:")
    for team_id, gk in goalkeepers.items():
        print(f"Team: {gk['team']}, Player ID: {gk['playerId']}, Name: {gk.get('name', 'Unknown')}, Jersey: {gk['jersey']}")
    
    # Extract passes
    passes = extract_gk_passes(data, goalkeepers)
    if not passes:
        print("No passes (typeId=1) found for goalkeepers in the provided data.")
        return
    
    # Plot passes
    plot_gk_passes(passes)

if __name__ == "__main__":
    main()
